{
 "cells": [
  {
   "cell_type": "code",
   "execution_count": 1,
   "metadata": {},
   "outputs": [],
   "source": [
    "class Node:\n",
    "    def __init__(self, val, left=None, right=None):\n",
    "        self.value, self.left, self.right = val, left, right\n",
    "\n",
    "def move_to_node(root, location):\n",
    "    for loc in location:\n",
    "        if loc == 'L':\n",
    "            if root.left is None: # to handle cases where nodes at the bottom of the tree are in input \n",
    "                                  # before the nodes at the top\n",
    "                root.left = Node(None)\n",
    "            root = root.left\n",
    "        elif loc == 'R':\n",
    "            if root.right is None:\n",
    "                root.right = Node(None)\n",
    "            root = root.right\n",
    "        else:\n",
    "            raise AttributeError('elements of \\'location\\' array should either be \\'L\\' or \\'R\\'')\n",
    "    return root\n",
    "\n",
    "def in_order(root, func=None, params=None):\n",
    "    '''\n",
    "    func - func(value) gets executed each time we visit a node\n",
    "    params is any object returned by func\n",
    "    '''\n",
    "    if root == None:\n",
    "        return params\n",
    "    params = func(root.value, params)\n",
    "    params = in_order(root.left, func=func, params=params)\n",
    "    params = in_order(root.right, func=func, params=params)\n",
    "    return params\n",
    "\n",
    "class Tree:\n",
    "    def __init__(self, rootVal, rootLeft=None, rootRight=None):\n",
    "        self.root = Node(rootVal, rootLeft, rootRight)\n",
    "\n",
    "    def add_node(self, val, location):\n",
    "        '''\n",
    "        val:Object - value to be inserted into the tree.\n",
    "        location:string - specifies the location of the node on the tree\n",
    "            through combinations of 'L' and 'R'. Ex. 'LLR' means that the\n",
    "            we should traverse Root -> Left -> Left and then insert the element at\n",
    "            Right node of the current node.\n",
    "        '''\n",
    "        location = list(location)\n",
    "        parent = move_to_node(self.root, location[:-1])\n",
    "        # pdb.set_trace()\n",
    "        if location[-1] == 'L':\n",
    "            if parent.left is None:\n",
    "                parent.left = Node(val)\n",
    "            else:\n",
    "                parent.left.value = val\n",
    "        elif location[-1] == 'R':\n",
    "            if parent.right is None:\n",
    "                parent.right = Node(val)\n",
    "            else:\n",
    "                parent.right.value = val\n",
    "        else:\n",
    "            raise AttributeError('characters in \\'location\\' string should either be \\'L\\' or \\'R\\'')\n",
    "\n",
    "    def __str__(self):\n",
    "        return in_order(self.root, func=lambda val, s: s + ' ' + str(val), params= '' )\n",
    "\n",
    "    def __repl__(self):\n",
    "        return self.__str__()\n",
    "    \n",
    "def build_tree_from_file(fname):\n",
    "    with open(fname) as stdin:\n",
    "        numNodes, rootVal = tuple(stdin.readline().strip().split(' '))\n",
    "        numNodes = int(numNodes)\n",
    "\n",
    "        tree = Tree(rootVal)\n",
    "\n",
    "        for i in range(numNodes - 1):\n",
    "            position = stdin.readline().strip()\n",
    "            value = int(stdin.readline().strip())\n",
    "            tree.add_node(value, position)\n",
    "    \n",
    "    return tree"
   ]
  },
  {
   "cell_type": "code",
   "execution_count": 2,
   "metadata": {},
   "outputs": [
    {
     "name": "stdout",
     "output_type": "stream",
     "text": [
      "8 0\r\n",
      "L\r\n",
      "1\r\n",
      "R\r\n",
      "2\r\n",
      "LL\r\n",
      "3\r\n",
      "LR\r\n",
      "4\r\n",
      "RL\r\n",
      "5\r\n",
      "RR\r\n",
      "6\r\n",
      "LLL\r\n",
      "7\r\n"
     ]
    }
   ],
   "source": [
    "! cat small_asym_tree.txt\n",
    "\n",
    "# Input:\n",
    "# First line contains two integers, T and X, number of nodes in the tree and value of the root.\n",
    "# Next 2 * (T-1) lines contain details of nodes.\n",
    "# Each detail of node contains two lines. First lines contains a string and second line contains an integer, \n",
    "# which denotes the path of the node and the value of the node respectively.\n",
    "\n",
    "# I had previously worked on a binary tree problem at the following link\n",
    "# https://www.hackerearth.com/practice/data-structures/trees/binary-and-nary-trees/tutorial/\n",
    "# This is where I got the idea for the input representation from"
   ]
  },
  {
   "cell_type": "code",
   "execution_count": 3,
   "metadata": {},
   "outputs": [],
   "source": [
    "sym_tree = build_tree_from_file('small_sym_tree.txt')\n",
    "asym_tree = build_tree_from_file('small_asym_tree.txt')"
   ]
  },
  {
   "cell_type": "code",
   "execution_count": 4,
   "metadata": {},
   "outputs": [],
   "source": [
    "def is_symmetric_helper(root_a, root_b):\n",
    "    '''\n",
    "    returns True of the trees in root1 and root2 are symmetrical\n",
    "    '''\n",
    "\n",
    "    # we need to check for the existence of a right node in root_b for\n",
    "    # a left node in root_a and a left node in root_b for a right node in root_a\n",
    "\n",
    "    # ALSO, root_a.left should be symmetrical to root_b.right\n",
    "    # and root_a.right should be symmetrical to root_b.left\n",
    "\n",
    "    if root_a is None and root_b is None:\n",
    "        # if both are None, tree can be considered to be symmetrical\n",
    "        return True\n",
    "    elif root_a is None or root_b is None:\n",
    "        # if both are None, the previous if clause catches that\n",
    "        # but if only one is None, it isn't symmetrical\n",
    "        return False\n",
    "\n",
    "    return is_symmetric_helper(root_a.left, root_b.right) and is_symmetric_helper(root_a.right, root_b.left)\n",
    "\n",
    "def is_symmetric(root):\n",
    "    if root is None:\n",
    "        return True # Trivial case. If there is no node, we can just, by convention,\n",
    "                    # say that it is symmetrical. Although I don't know if it makes any sense either way.\n",
    "    return is_symmetric_helper(root.left, root.right)"
   ]
  },
  {
   "cell_type": "code",
   "execution_count": 5,
   "metadata": {},
   "outputs": [
    {
     "data": {
      "text/plain": [
       "True"
      ]
     },
     "execution_count": 5,
     "metadata": {},
     "output_type": "execute_result"
    }
   ],
   "source": [
    "is_symmetric(sym_tree.root)"
   ]
  },
  {
   "cell_type": "code",
   "execution_count": 6,
   "metadata": {},
   "outputs": [
    {
     "data": {
      "text/plain": [
       "False"
      ]
     },
     "execution_count": 6,
     "metadata": {},
     "output_type": "execute_result"
    }
   ],
   "source": [
    "is_symmetric(asym_tree.root)"
   ]
  },
  {
   "cell_type": "code",
   "execution_count": null,
   "metadata": {},
   "outputs": [],
   "source": []
  }
 ],
 "metadata": {
  "kernelspec": {
   "display_name": "Python 3",
   "language": "python",
   "name": "python3"
  },
  "language_info": {
   "codemirror_mode": {
    "name": "ipython",
    "version": 3
   },
   "file_extension": ".py",
   "mimetype": "text/x-python",
   "name": "python",
   "nbconvert_exporter": "python",
   "pygments_lexer": "ipython3",
   "version": "3.6.5"
  }
 },
 "nbformat": 4,
 "nbformat_minor": 2
}
